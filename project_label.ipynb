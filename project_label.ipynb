{
  "nbformat": 4,
  "nbformat_minor": 0,
  "metadata": {
    "colab": {
      "provenance": [],
      "toc_visible": true,
      "authorship_tag": "ABX9TyPw6zT3FUyEQWn4B5lldh/k",
      "include_colab_link": true
    },
    "kernelspec": {
      "name": "python3",
      "display_name": "Python 3"
    },
    "language_info": {
      "name": "python"
    }
  },
  "cells": [
    {
      "cell_type": "markdown",
      "metadata": {
        "id": "view-in-github",
        "colab_type": "text"
      },
      "source": [
        "<a href=\"https://colab.research.google.com/github/affaq-baig/rupani-foundation/blob/main/project_label.ipynb\" target=\"_parent\"><img src=\"https://colab.research.google.com/assets/colab-badge.svg\" alt=\"Open In Colab\"/></a>"
      ]
    },
    {
      "cell_type": "code",
      "execution_count": null,
      "metadata": {
        "id": "zqpiLx-Jqutz"
      },
      "outputs": [],
      "source": [
        "with open(\"label.lst\") as f:\n",
        "    info = f.readlines()\n",
        "    sep_info = []\n",
        "    for i in info:\n",
        "        sep_info.append(i.split(\" \"))\n"
      ]
    },
    {
      "cell_type": "code",
      "source": [
        "import pandas as pd\n",
        "df =pd.DataFrame(sep_info)\n",
        "print(df)"
      ],
      "metadata": {
        "colab": {
          "base_uri": "https://localhost:8080/"
        },
        "id": "QXqv7RGVu7kE",
        "outputId": "f4f9063e-f222-4d25-ff87-57fa5c1ae2a5"
      },
      "execution_count": null,
      "outputs": [
        {
          "output_type": "stream",
          "name": "stdout",
          "text": [
            "                                  0  1   2    3    4    5        6    7\n",
            "0               angry_actor_104.jpg  0  28  113  226  141  22.9362  0\\n\n",
            "1               angry_actor_109.jpg  0  31  157  345  219  50.3056  0\\n\n",
            "2               angry_actor_120.jpg  1  53   53  372  372  13.9434  2\\n\n",
            "3                angry_actor_13.jpg  0  77   51  362  388  85.8104  3\\n\n",
            "4               angry_actor_132.jpg  0  95   31  412  476  82.3948  0\\n\n",
            "...                             ... ..  ..  ...  ...  ...      ...  ...\n",
            "91788  surprised_expression_546.jpg  0  70   70  351  351  37.7117  5\\n\n",
            "91789  surprised_expression_381.jpg  0  51   61  117  107  91.6307  5\\n\n",
            "91790  surprised_expression_395.jpg  0  27   95  258  190  96.2861  5\\n\n",
            "91791         ecstatic_asian_31.jpg  0  60  136  184  108  39.9223  3\\n\n",
            "91792  surprised_expression_394.jpg  0  47   38  152  161  77.7758  5\\n\n",
            "\n",
            "[91793 rows x 8 columns]\n"
          ]
        }
      ]
    },
    {
      "cell_type": "code",
      "source": [
        "import cv2\n",
        "import os\n",
        "\n",
        "dataset_path = \"/content/label.lst\"\n",
        "\n",
        "\n",
        "image_filenames = os.listdir(angry_actor_104.jpgt)\n",
        "\n",
        "images = []\n",
        "for filename in image_filenames:\n",
        "\n",
        "    image_path = os.path.join(/content/label.lst, label.lst)\n",
        "\n",
        "\n",
        "    image = cv2.imread(angry_actor_104.jpg)\n",
        "       images.append(angry_actor_104.jpg)\n"
      ],
      "metadata": {
        "colab": {
          "base_uri": "https://localhost:8080/",
          "height": 130
        },
        "id": "m7m-EUDVwuE3",
        "outputId": "28fd74db-2e7b-4614-ab8d-1138b92cbaa2"
      },
      "execution_count": null,
      "outputs": [
        {
          "output_type": "error",
          "ename": "SyntaxError",
          "evalue": "ignored",
          "traceback": [
            "\u001b[0;36m  File \u001b[0;32m\"<ipython-input-13-1e00eaa490e4>\"\u001b[0;36m, line \u001b[0;32m12\u001b[0m\n\u001b[0;31m    image_path = os.path.join(/content/label.lst, label.lst)\u001b[0m\n\u001b[0m                              ^\u001b[0m\n\u001b[0;31mSyntaxError\u001b[0m\u001b[0;31m:\u001b[0m invalid syntax\n"
          ]
        }
      ]
    },
    {
      "cell_type": "code",
      "source": [],
      "metadata": {
        "id": "ceAcrDElxOL9"
      },
      "execution_count": null,
      "outputs": []
    }
  ]
}